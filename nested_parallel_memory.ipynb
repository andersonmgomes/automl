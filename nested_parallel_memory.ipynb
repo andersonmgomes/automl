{
  "cells": [
    {
      "cell_type": "code",
      "execution_count": null,
      "metadata": {
        "collapsed": false
      },
      "outputs": [],
      "source": [
        "%matplotlib inline"
      ]
    },
    {
      "cell_type": "markdown",
      "metadata": {},
      "source": [
        "\n",
        "# Checkpoint using joblib.Memory and joblib.Parallel\n",
        "\n",
        "This example illustrates how to cache intermediate computing results using\n",
        ":class:`joblib.Memory` within :class:`joblib.Parallel`.\n"
      ]
    },
    {
      "cell_type": "markdown",
      "metadata": {},
      "source": [
        "## Embed caching within parallel processing\n",
        "\n",
        " It is possible to cache a computationally expensive function executed during\n",
        " a parallel process. ``costly_compute`` emulates such time consuming function.\n",
        "\n"
      ]
    },
    {
      "cell_type": "code",
      "execution_count": 1,
      "metadata": {
        "collapsed": false
      },
      "outputs": [],
      "source": [
        "import time\n",
        "\n",
        "\n",
        "def costly_compute(data, column):\n",
        "    \"\"\"Emulate a costly function by sleeping and returning a column.\"\"\"\n",
        "    time.sleep(2)\n",
        "    return data[column]\n",
        "\n",
        "def data_processing_mean(data, column):\n",
        "    \"\"\"Compute the mean of a column.\"\"\"\n",
        "    return costly_compute(data, column).mean()"
      ]
    },
    {
      "cell_type": "markdown",
      "metadata": {},
      "source": [
        "Create some data. The random seed is fixed to generate deterministic data\n",
        "across Python session. Note that this is not necessary for this specific\n",
        "example since the memory cache is cleared at the end of the session.\n",
        "\n"
      ]
    },
    {
      "cell_type": "code",
      "execution_count": 3,
      "metadata": {
        "collapsed": false
      },
      "outputs": [
        {
          "data": {
            "text/plain": [
              "array([[ 0.49671415, -0.1382643 ,  0.64768854,  1.52302986],\n",
              "       [-0.23415337, -0.23413696,  1.57921282,  0.76743473],\n",
              "       [-0.46947439,  0.54256004, -0.46341769, -0.46572975],\n",
              "       ...,\n",
              "       [ 2.71049244,  0.77279139,  1.82925283,  0.99348728],\n",
              "       [ 0.15851616, -0.59765756, -0.97683992,  1.11965102],\n",
              "       [ 0.26503405,  0.61650104,  0.8146235 ,  0.35597439]])"
            ]
          },
          "execution_count": 3,
          "metadata": {},
          "output_type": "execute_result"
        }
      ],
      "source": [
        "import numpy as np\n",
        "rng = np.random.RandomState(42)\n",
        "data = rng.randn(int(1e4), 4)\n",
        "data"
      ]
    },
    {
      "cell_type": "markdown",
      "metadata": {},
      "source": [
        "It is first possible to make the processing without caching or parallel\n",
        "processing.\n",
        "\n"
      ]
    },
    {
      "cell_type": "code",
      "execution_count": 4,
      "metadata": {
        "collapsed": false
      },
      "outputs": [
        {
          "name": "stdout",
          "output_type": "stream",
          "text": [
            "\n",
            "Sequential processing\n",
            "Elapsed time for the entire processing: 8.00 s\n"
          ]
        }
      ],
      "source": [
        "start = time.time()\n",
        "results = [data_processing_mean(data, col) for col in range(data.shape[1])]\n",
        "stop = time.time()\n",
        "\n",
        "print('\\nSequential processing')\n",
        "print('Elapsed time for the entire processing: {:.2f} s'\n",
        "      .format(stop - start))"
      ]
    },
    {
      "cell_type": "markdown",
      "metadata": {},
      "source": [
        "``costly_compute`` is expensive to compute and it is used as an intermediate\n",
        "step in ``data_processing_mean``. Therefore, it is interesting to store the\n",
        "intermediate results from ``costly_compute`` using :class:`joblib.Memory`.\n",
        "\n"
      ]
    },
    {
      "cell_type": "code",
      "execution_count": 5,
      "metadata": {
        "collapsed": false
      },
      "outputs": [],
      "source": [
        "from joblib import Memory\n",
        "\n",
        "location = './cachedir'\n",
        "memory = Memory(location, verbose=0)\n",
        "costly_compute_cached = memory.cache(costly_compute)"
      ]
    },
    {
      "cell_type": "markdown",
      "metadata": {},
      "source": [
        "Now, we define ``data_processing_mean_using_cache`` which benefits from the\n",
        "cache by calling ``costly_compute_cached``\n",
        "\n"
      ]
    },
    {
      "cell_type": "code",
      "execution_count": 6,
      "metadata": {
        "collapsed": false
      },
      "outputs": [],
      "source": [
        "def data_processing_mean_using_cache(data, column):\n",
        "    \"\"\"Compute the mean of a column.\"\"\"\n",
        "    return costly_compute_cached(data, column).mean()"
      ]
    },
    {
      "cell_type": "markdown",
      "metadata": {},
      "source": [
        "Then, we execute the same processing in parallel and caching the intermediate\n",
        "results.\n",
        "\n"
      ]
    },
    {
      "cell_type": "code",
      "execution_count": 7,
      "metadata": {
        "collapsed": false
      },
      "outputs": [
        {
          "name": "stdout",
          "output_type": "stream",
          "text": [
            "\n",
            "First round - caching the data\n",
            "Elapsed time for the entire processing: 4.99 s\n"
          ]
        }
      ],
      "source": [
        "from joblib import Parallel, delayed\n",
        "\n",
        "start = time.time()\n",
        "results = Parallel(n_jobs=2)(\n",
        "    delayed(data_processing_mean_using_cache)(data, col)\n",
        "    for col in range(data.shape[1]))\n",
        "stop = time.time()\n",
        "\n",
        "print('\\nFirst round - caching the data')\n",
        "print('Elapsed time for the entire processing: {:.2f} s'\n",
        "      .format(stop - start))"
      ]
    },
    {
      "cell_type": "markdown",
      "metadata": {},
      "source": [
        "By using 2 workers, the parallel processing gives a x2 speed-up compared to\n",
        "the sequential case. By executing again the same process, the intermediate\n",
        "results obtained by calling ``costly_compute_cached`` will be loaded from the\n",
        "cache instead of executing the function.\n",
        "\n"
      ]
    },
    {
      "cell_type": "code",
      "execution_count": 8,
      "metadata": {
        "collapsed": false
      },
      "outputs": [
        {
          "name": "stdout",
          "output_type": "stream",
          "text": [
            "\n",
            "Second round - reloading from the cache\n",
            "Elapsed time for the entire processing: 0.05 s\n"
          ]
        }
      ],
      "source": [
        "start = time.time()\n",
        "results = Parallel(n_jobs=2)(\n",
        "    delayed(data_processing_mean_using_cache)(data, col)\n",
        "    for col in range(data.shape[1]))\n",
        "stop = time.time()\n",
        "\n",
        "print('\\nSecond round - reloading from the cache')\n",
        "print('Elapsed time for the entire processing: {:.2f} s'\n",
        "      .format(stop - start))"
      ]
    },
    {
      "cell_type": "markdown",
      "metadata": {},
      "source": [
        "## Reuse intermediate checkpoints\n",
        "\n",
        " Having cached the intermediate results of the ``costly_compute_cached``\n",
        " function, they are reusable by calling the function. We define a new\n",
        " processing which will take the maximum of the array returned by\n",
        " ``costly_compute_cached`` instead of previously the mean.\n",
        "\n"
      ]
    },
    {
      "cell_type": "code",
      "execution_count": 9,
      "metadata": {
        "collapsed": false
      },
      "outputs": [
        {
          "name": "stdout",
          "output_type": "stream",
          "text": [
            "\n",
            "Reusing intermediate checkpoints\n",
            "Elapsed time for the entire processing: 0.02 s\n"
          ]
        }
      ],
      "source": [
        "def data_processing_max_using_cache(data, column):\n",
        "    \"\"\"Compute the max of a column.\"\"\"\n",
        "    return costly_compute_cached(data, column).max()\n",
        "\n",
        "\n",
        "start = time.time()\n",
        "results = Parallel(n_jobs=2)(\n",
        "    delayed(data_processing_max_using_cache)(data, col)\n",
        "    for col in range(data.shape[1]))\n",
        "stop = time.time()\n",
        "\n",
        "print('\\nReusing intermediate checkpoints')\n",
        "print('Elapsed time for the entire processing: {:.2f} s'\n",
        "      .format(stop - start))"
      ]
    },
    {
      "cell_type": "markdown",
      "metadata": {},
      "source": [
        "The processing time only corresponds to the execution of the ``max``\n",
        "function. The internal call to ``costly_compute_cached`` is reloading the\n",
        "results from the cache.\n",
        "\n"
      ]
    },
    {
      "cell_type": "markdown",
      "metadata": {},
      "source": [
        "## Clean-up the cache folder\n",
        "\n"
      ]
    },
    {
      "cell_type": "code",
      "execution_count": 10,
      "metadata": {
        "collapsed": false
      },
      "outputs": [],
      "source": [
        "memory.clear(warn=False)"
      ]
    }
  ],
  "metadata": {
    "kernelspec": {
      "display_name": "Python 3",
      "language": "python",
      "name": "python3"
    },
    "language_info": {
      "codemirror_mode": {
        "name": "ipython",
        "version": 3
      },
      "file_extension": ".py",
      "mimetype": "text/x-python",
      "name": "python",
      "nbconvert_exporter": "python",
      "pygments_lexer": "ipython3",
      "version": "3.9.1"
    }
  },
  "nbformat": 4,
  "nbformat_minor": 0
}
